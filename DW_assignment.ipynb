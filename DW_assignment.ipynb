{
 "cells": [
  {
   "cell_type": "code",
   "execution_count": 165,
   "id": "516cf906-2604-42bd-819a-392963ec4eec",
   "metadata": {},
   "outputs": [],
   "source": [
    "import pandas as pd\n",
    "import ast\n",
    "import numpy as np\n",
    "from sklearn.preprocessing import MultiLabelBinarizer"
   ]
  },
  {
   "cell_type": "code",
   "execution_count": 166,
   "id": "28a6496b-aa75-4808-97b2-0927d6e53e7d",
   "metadata": {},
   "outputs": [
    {
     "name": "stdout",
     "output_type": "stream",
     "text": [
      "Dataset loaded successfully!\n",
      "Initial shape: (13790, 79)\n"
     ]
    }
   ],
   "source": [
    "try:\n",
    "    df = pd.read_csv('listings.csv', encoding='utf-8')\n",
    "    print(\"Dataset loaded successfully!\")\n",
    "    print(f\"Initial shape: {df.shape}\")\n",
    "except FileNotFoundError:\n",
    "    print(\"Please provide the correct path to your CSV file\")"
   ]
  },
  {
   "cell_type": "code",
   "execution_count": 155,
   "id": "d1d45d64-b961-4785-9e0c-dd06a70f8fa3",
   "metadata": {},
   "outputs": [
    {
     "name": "stdout",
     "output_type": "stream",
     "text": [
      "<class 'pandas.core.frame.DataFrame'>\n",
      "RangeIndex: 13790 entries, 0 to 13789\n",
      "Data columns (total 39 columns):\n",
      " #   Column                        Non-Null Count  Dtype  \n",
      "---  ------                        --------------  -----  \n",
      " 0   description                   13389 non-null  object \n",
      " 1   neighborhood_overview         6887 non-null   object \n",
      " 2   host_name                     13784 non-null  object \n",
      " 3   host_since                    13784 non-null  object \n",
      " 4   host_location                 10171 non-null  object \n",
      " 5   host_about                    6467 non-null   object \n",
      " 6   host_response_time            9961 non-null   object \n",
      " 7   host_response_rate            9961 non-null   object \n",
      " 8   host_acceptance_rate          10637 non-null  object \n",
      " 9   host_is_superhost             13532 non-null  object \n",
      " 10  host_thumbnail_url            13784 non-null  object \n",
      " 11  host_picture_url              13784 non-null  object \n",
      " 12  host_neighbourhood            5367 non-null   object \n",
      " 13  host_listings_count           13784 non-null  float64\n",
      " 14  host_total_listings_count     13784 non-null  float64\n",
      " 15  host_verifications            13784 non-null  object \n",
      " 16  host_has_profile_pic          13784 non-null  object \n",
      " 17  host_identity_verified        13784 non-null  object \n",
      " 18  neighbourhood                 6887 non-null   object \n",
      " 19  neighbourhood_group_cleansed  0 non-null      float64\n",
      " 20  bathrooms                     9832 non-null   float64\n",
      " 21  bathrooms_text                13785 non-null  object \n",
      " 22  bedrooms                      12390 non-null  float64\n",
      " 23  beds                          9815 non-null   float64\n",
      " 24  price                         9821 non-null   object \n",
      " 25  calendar_updated              0 non-null      float64\n",
      " 26  has_availability              12868 non-null  object \n",
      " 27  estimated_revenue_l365d       9821 non-null   float64\n",
      " 28  first_review                  11221 non-null  object \n",
      " 29  last_review                   11221 non-null  object \n",
      " 30  review_scores_rating          11221 non-null  float64\n",
      " 31  review_scores_accuracy        11221 non-null  float64\n",
      " 32  review_scores_cleanliness     11221 non-null  float64\n",
      " 33  review_scores_checkin         11221 non-null  float64\n",
      " 34  review_scores_communication   11221 non-null  float64\n",
      " 35  review_scores_location        11221 non-null  float64\n",
      " 36  review_scores_value           11220 non-null  float64\n",
      " 37  license                       0 non-null      float64\n",
      " 38  reviews_per_month             11221 non-null  float64\n",
      "dtypes: float64(17), object(22)\n",
      "memory usage: 4.1+ MB\n"
     ]
    }
   ],
   "source": [
    "cols_with_nulls = df.columns[df.isnull().any()]\n",
    "df[cols_with_nulls].info()"
   ]
  },
  {
   "cell_type": "code",
   "execution_count": 141,
   "id": "635e7d31-46d9-41e1-8038-0a16cd2a00b5",
   "metadata": {},
   "outputs": [],
   "source": [
    "# drop columns having 100% NaN\n",
    "df.drop(columns=['neighbourhood_group_cleansed', 'calendar_updated', 'license'], inplace=True)"
   ]
  },
  {
   "cell_type": "code",
   "execution_count": 54,
   "id": "a47566b2-1aac-4a94-b2b0-0a8dcd957826",
   "metadata": {},
   "outputs": [],
   "source": [
    "# drop column listing_url\n",
    "df.drop('listing_url', axis=1, inplace=True)"
   ]
  },
  {
   "cell_type": "code",
   "execution_count": 55,
   "id": "7976a856-0439-46b7-8a64-493c8855df3b",
   "metadata": {},
   "outputs": [],
   "source": [
    "# drop column host_url\n",
    "df.drop('host_url', axis=1, inplace=True)"
   ]
  },
  {
   "cell_type": "code",
   "execution_count": 56,
   "id": "07e53d4c-f0d5-4585-a6e8-5bf9cb7cfbbc",
   "metadata": {},
   "outputs": [],
   "source": [
    "# delete 'scrape' from values in column 'source' \n",
    "df['source'] = df['source'].str.replace('scrape', '', regex=False)"
   ]
  },
  {
   "cell_type": "code",
   "execution_count": 57,
   "id": "3c8f6f38-5ac2-4752-bdd4-e510af43f1a9",
   "metadata": {},
   "outputs": [],
   "source": [
    "# remove HTMl tags from column 'description'\n",
    "df['description'] = df['description'].str.replace(r'<.*?>', '', regex=True)"
   ]
  },
  {
   "cell_type": "code",
   "execution_count": 58,
   "id": "d9de39c8-5306-4237-aa2e-9beb0c4a288e",
   "metadata": {},
   "outputs": [],
   "source": [
    "# remove HTMl tags from column 'neighborhood_overview'\n",
    "df['neighborhood_overview'] = df['neighborhood_overview'].str.replace(r'<.*?>', '', regex=True)"
   ]
  },
  {
   "cell_type": "code",
   "execution_count": 59,
   "id": "571cc43e-3cd9-458b-9dfa-b7e36a2691ef",
   "metadata": {},
   "outputs": [],
   "source": [
    "# rename wrongly spelled column 'neighborhood_overview' to 'neighbourhood_overview'\n",
    "df.rename(columns={'neighborhood_overview': 'neighbourhood_overview'}, inplace=True)"
   ]
  },
  {
   "cell_type": "code",
   "execution_count": 142,
   "id": "0d697234-99b2-4857-a70f-de95fa192063",
   "metadata": {},
   "outputs": [],
   "source": [
    "# drop column neighbourhood\n",
    "df.drop('neighbourhood', axis=1, inplace=True)"
   ]
  },
  {
   "cell_type": "code",
   "execution_count": 167,
   "id": "e3583989-1b5a-42ab-b059-4ebd9fa7a811",
   "metadata": {},
   "outputs": [],
   "source": [
    "import warnings\n",
    "# suppress FutureWarning regarding pandas 3.0\n",
    "warnings.simplefilter(action='ignore', category=FutureWarning)\n",
    "\n",
    "# Impute 'a few days or more\" for NaNs\n",
    "df['host_response_time'].fillna('a few days or more', inplace=True)\n",
    "# Mapping\n",
    "host_response_time_mapping = {\n",
    "    'within an hour': 0,\n",
    "    'within a few hours': 1,\n",
    "    'within a day': 2,\n",
    "    'a few days or more': 3}\n",
    "# Actual mapping\n",
    "df['host_response_time_mapped'] = df['host_response_time'].map(response_time_mapping)\n",
    "# Drop original column\n",
    "df.drop('host_response_time', axis=1, inplace=True)"
   ]
  },
  {
   "cell_type": "code",
   "execution_count": 134,
   "id": "b034a84e-4b4e-4f47-99f4-0b1da84b3f3c",
   "metadata": {},
   "outputs": [],
   "source": [
    "# Parse strings into actual lists ---\n",
    "def parse_to_list(entry):\n",
    "    if pd.isna(entry) or entry == 'None': \n",
    "        return []\n",
    "    if isinstance(entry, list): \n",
    "        return entry\n",
    "    if isinstance(entry, str):\n",
    "        if entry == '[]': \n",
    "            return []\n",
    "        try:\n",
    "            # Safely evaluate string to Python literal\n",
    "            evaluated = ast.literal_eval(entry)\n",
    "            # Ensure the evaluated result is a list\n",
    "            return evaluated if isinstance(evaluated, list) else []\n",
    "        except (ValueError, SyntaxError):\n",
    "            print(f\"Warning: Could not parse entry: {entry}\")\n",
    "            return []\n",
    "    return [] # Fallback\n",
    "\n",
    "df['parsed_verifications'] = df['host_verifications'].apply(parse_to_list)\n",
    "\n",
    "# Use MultiLabelBinarizer to create binary columns ---\n",
    "mlb = MultiLabelBinarizer()\n",
    "\n",
    "# Fit MultiLabelBinarizer, transform the parsed lists\n",
    "# and create a NumPy array of 0s and 1s\n",
    "encoded_data = mlb.fit_transform(df['parsed_verifications'])\n",
    "\n",
    "# Create a DataFrame from the encoded data\n",
    "encoded_df = pd.DataFrame(encoded_data,\n",
    "                          columns=[f'verified_by_{cls.replace(\" \", \"_\")}' for cls in mlb.classes_],\n",
    "                          index=df.index)\n",
    "\n",
    "# Concatenate with original DataFrame\n",
    "df = pd.concat([df, encoded_df], axis=1)\n",
    "\n",
    "# Drop the original and temporary column\n",
    "df.drop(['host_verifications', 'parsed_verifications'], axis=1, inplace=True)"
   ]
  },
  {
   "cell_type": "code",
   "execution_count": 157,
   "id": "bdc84007-bcbf-423d-897b-437ed6a2a153",
   "metadata": {},
   "outputs": [],
   "source": [
    "df['price'] = df['price'].str.replace('$', '', regex=False)\\\n",
    "                         .str.replace(',', '', regex=False)\\\n",
    "                         .astype(float)"
   ]
  },
  {
   "cell_type": "code",
   "execution_count": 159,
   "id": "f1681ca0-542a-46b5-8a09-f0339b734e74",
   "metadata": {},
   "outputs": [],
   "source": [
    "upper_threshold_percentile = df['price'].quantile(0.9989)\n",
    "# Keep rows < threshold AND NaNs\n",
    "df = df[(df['price'] <= upper_threshold_percentile) | (df['price'].isna())]"
   ]
  },
  {
   "cell_type": "code",
   "execution_count": 162,
   "id": "79582a8f-f3a4-4c83-bb0a-ad17673dc582",
   "metadata": {},
   "outputs": [],
   "source": [
    "grouping_columns = ['neighbourhood_cleansed', 'bedrooms', 'bathrooms']\n",
    "\n",
    "df['price_imputed_grouped_median'] = df['price']\n",
    "\n",
    "# Calculate group medians and fill NaNs with the results\n",
    "df['price_imputed_grouped_median'] = df.groupby(grouping_columns)['price_imputed_grouped_median'] \\\n",
    "                                     .transform(lambda x: x.fillna(x.median()))\n",
    "\n",
    "# If result for a group is NaN, the glogal median is used\n",
    "if df['price_imputed_grouped_median'].isnull().any():\n",
    "    global_median = df['price'].median() \n",
    "    df['price_imputed_final'] = df['price_imputed_grouped_median'].fillna(global_median)\n",
    "else:\n",
    "    df['price_imputed_final'] = df['price_imputed_grouped_median']\n"
   ]
  },
  {
   "cell_type": "code",
   "execution_count": null,
   "id": "3bd47aa8-4371-4808-a007-061dfaeaa850",
   "metadata": {},
   "outputs": [],
   "source": []
  }
 ],
 "metadata": {
  "kernelspec": {
   "display_name": "Python 3 (ipykernel)",
   "language": "python",
   "name": "python3"
  },
  "language_info": {
   "codemirror_mode": {
    "name": "ipython",
    "version": 3
   },
   "file_extension": ".py",
   "mimetype": "text/x-python",
   "name": "python",
   "nbconvert_exporter": "python",
   "pygments_lexer": "ipython3",
   "version": "3.12.7"
  }
 },
 "nbformat": 4,
 "nbformat_minor": 5
}
